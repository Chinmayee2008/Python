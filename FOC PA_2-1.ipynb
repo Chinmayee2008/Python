{
  "nbformat": 4,
  "nbformat_minor": 0,
  "metadata": {
    "colab": {
      "provenance": []
    },
    "kernelspec": {
      "name": "python3",
      "display_name": "Python 3"
    },
    "language_info": {
      "name": "python"
    }
  },
  "cells": [
    {
      "cell_type": "markdown",
      "metadata": {
        "id": "IomjkHgqwz2H"
      },
      "source": [
        "# DASC 5300, spring 2023, University of Texas at Arlington\n",
        "# Programming Assignment 2 \"Implementing the Go Fish card game in Python\"\n",
        "\n",
        "\n",
        "## **Academic Honesty**\n",
        "This assignment must be done individually and independently. You must implement the whole assignment by yourself. Academic dishonesty is not tolerated.\n",
        "\n",
        "## **Requirements**\n",
        "\n",
        "1.   When you work on this assignment, you should make a copy of this notebook in Google Colab. This can be done using the option `File > Save a copy in Drive` in Google Colab. \n",
        " \n",
        "2.  To submit your assignment, download your Colab into a .ipynb file. This\n",
        "can be done using the option `Download > Download .ipynb` in Google Colab. Submit the downloaded .ipynb file/ .zip into the Programming Assignment 2 entry in Canvas.\n"
      ]
    },
    {
      "cell_type": "markdown",
      "source": [
        "## **Description**\n",
        "\n",
        "Implementing the Go Fish card game using stacks and queues in Python. The program should simulate a game between two players, where each player draws cards from a central deck to collect sets of matching cards. The game ends when the deck is empty, and the player with the most sets at the end of the game wins. The program should use stacks to represent each player's hand and a queue to represent the central deck of cards. The game should be playable in the command-line interface, with the option to specify the number of players and the number of cards dealt to each player at the start of the game.\""
      ],
      "metadata": {
        "id": "7bt5YSaL3V9M"
      }
    },
    {
      "cell_type": "code",
      "source": [
        "import random\n",
        "\n",
        "deck = [i for i in range(1,14)]\n",
        "player1_pairs = 0 \n",
        "player2_pairs = 0\n",
        "\n",
        "random. shuffle(deck)\n",
        "player1_hand = deck[:7]\n",
        "player2_hand = deck[7:14]\n",
        "def matched_pairs(player_hand):\n",
        "  pairs = 0\n",
        "  rank = 0\n",
        "  while pairs < len(player_hand)-1:\n",
        "    for ranks in range(rank+1, len(player_hand)):\n",
        "      if player_hand[pairs] == player_hand[ranks]:\n",
        "        rank += 1\n",
        "        player_hand.pop(ranks)\n",
        "        player_hand.pop(pairs)\n",
        "        break\n",
        "    pairs += 1\n",
        "  return pairs\n",
        "\n",
        "  for i in range(7):\n",
        "    player1_hand.append(deck.pop(0))\n",
        "    player2_hand.append(deck.pop(0))\n",
        "\n",
        "\n",
        "print('player1 : ', player1_hand)\n",
        "print('player2 : ', player2_hand)\n",
        "\n",
        "\n",
        "player1_pairs += matched_pairs(player1_hand)\n",
        "player2_pairs += matched_pairs(player2_hand)\n",
        " \n",
        "while deck:\n",
        "  if len(player1_hand) < 1 or len(player2_hand) < 1:\n",
        "    break\n",
        "  else:\n",
        "    print('\\nPlayer1:')\n",
        "    print('cards: ', player1_hand)\n",
        "    player_card1 = int(input('\\nEnter the number you need'))\n",
        "    if player_card1 in player2_hand:\n",
        "      print('\\nMatch Found')\n",
        "      stack1 = []\n",
        "      while player2_hand[-1] != player_card1:\n",
        "        stack1.append(player2_hand.pop())\n",
        "      player2_hand.pop()\n",
        "      while len(stack1) > 0:\n",
        "        player2_hand.append(stack1.pop())\n",
        "      stack2 = []  \n",
        "      while player1_hand[-1] != player_card1:\n",
        "        stack2.append(player1_hand.pop())\n",
        "      player1_hand.pop()\n",
        "      while len(stack2) > 0:\n",
        "        player1_hand.append(stack2.pop())\n",
        "      player1_pairs += 1\n",
        "      continue\n",
        "    else:\n",
        "      print('\\nGo fish')\n",
        "      player1_hand.append(deck.pop())\n",
        "      print(player1_hand)\n",
        "      player1_pairs += matched_pairs(player1_hand)\n",
        "      if len(player1_hand)<1 :\n",
        "        break\n",
        "      while deck:\n",
        "        if len(player1_hand) < 1 or len(player2_hand)<1:\n",
        "          break\n",
        "        else:\n",
        "          print('\\nplayer2')\n",
        "          print('\\nyour cards:', player2_hand)\n",
        "          player_card2 = int(input('card you need'))\n",
        "\n",
        "          if player_card2 in player1_hand:\n",
        "            print('\\nMatch found')\n",
        "            stack2 = []  \n",
        "            if player1_hand[-1] == player_card2:\n",
        "              player1_hand.pop()\n",
        "            else:\n",
        "              while player1_hand[-1] != player_card2:\n",
        "                stack2.append(player1_hand.pop())\n",
        "            while len(stack2) > 0:\n",
        "              player1_hand.append(stack2.pop())\n",
        "            stack1 = []\n",
        "            while player2_hand[-1] != player_card2:\n",
        "              stack1.append(player2_hand.pop())\n",
        "            player2_hand.pop()\n",
        "            while len(stack1) > 0:\n",
        "              player2_hand.append(stack1.pop())\n",
        "              player2_pairs += 1\n",
        "              continue\n",
        "          else:\n",
        "            print('\\nGo fish')\n",
        "            player2_hand.append(deck.pop())\n",
        "            print(player2_hand)\n",
        "            player2_pairs += matched_pairs(player2_hand)\n",
        "            if len(player2_hand)<1 :\n",
        "              break\n",
        "            break\n",
        "    player1_pairs += matched_pairs(player1_hand)\n",
        "    player2_pairs += matched_pairs(player2_hand)\n",
        "\n",
        "print('\\nGame Finished')\n",
        "print('\\nplayer1_hand :', player1_pairs)\n",
        "print('\\nplayer2_hand: ', player2_pairs)\n",
        "print('\\nResults')"
      ],
      "metadata": {
        "colab": {
          "base_uri": "https://localhost:8080/"
        },
        "id": "tTGPYU4u5G4x",
        "outputId": "f8beb1fd-90fa-4e04-bf46-68a227fa6352"
      },
      "execution_count": null,
      "outputs": [
        {
          "output_type": "stream",
          "name": "stdout",
          "text": [
            "player1 :  [12, 5, 1, 4, 13, 6, 7]\n",
            "player2 :  [2, 11, 9, 10, 8, 3]\n",
            "\n",
            "Player1:\n",
            "cards:  [12, 4, 7]\n",
            "\n",
            "Enter the number you need1\n",
            "\n",
            "Go fish\n",
            "[12, 4, 7, 3]\n",
            "\n",
            "player2\n",
            "\n",
            "your cards: [2, 10]\n"
          ]
        }
      ]
    }
  ]
}