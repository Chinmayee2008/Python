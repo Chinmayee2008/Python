{
 "cells": [
  {
   "cell_type": "code",
   "execution_count": 8,
   "id": "b7cdbb09",
   "metadata": {},
   "outputs": [
    {
     "name": "stdout",
     "output_type": "stream",
     "text": [
      "[8, 11, 24]\n"
     ]
    }
   ],
   "source": [
    "def middle(b):\n",
    "    if len(b) <= 2:\n",
    "        return []\n",
    "    return b[1:-1];\n",
    "b = [5, 8, 11, 24, 50]\n",
    "middle_b = middle(b)\n",
    "print(middle_b)"
   ]
  },
  {
   "cell_type": "code",
   "execution_count": 9,
   "id": "ffc249c5",
   "metadata": {},
   "outputs": [
    {
     "name": "stdout",
     "output_type": "stream",
     "text": [
      "12\n"
     ]
    }
   ],
   "source": [
    "def diag_sum(a):\n",
    "    r = len(a)\n",
    "    c = len(a[0])\n",
    "    diag_sum = 0\n",
    "    for i in range(min(r, c)):\n",
    "        diag_sum += a[i][i]\n",
    "        return diag_sum\n",
    "a = [[12, 32, 43],\n",
    "    [67, 45, 60],\n",
    "    [23, 46, 80]]\n",
    "diag_sum = diag_sum(a)\n",
    "print(diag_sum)  \n"
   ]
  },
  {
   "cell_type": "code",
   "execution_count": 10,
   "id": "16ae4768",
   "metadata": {},
   "outputs": [
    {
     "name": "stdout",
     "output_type": "stream",
     "text": [
      "(105, 98)\n"
     ]
    }
   ],
   "source": [
    "def best_two_sc(sc):\n",
    "    sorted_sc = sorted(set(sc), reverse=True)\n",
    "    if len(sorted_sc) < 2:\n",
    "        return None\n",
    "    return sorted_sc[0], sorted_sc[1]\n",
    "sc = [88, 79, 98, 45, 88, 98, 88, 75, 56, 34, 105]\n",
    "top_sc = best_two_sc(sc)\n",
    "print(top_sc)  "
   ]
  },
  {
   "cell_type": "code",
   "execution_count": 11,
   "id": "f3f101ef",
   "metadata": {},
   "outputs": [
    {
     "name": "stdout",
     "output_type": "stream",
     "text": [
      "Missing number is: 9\n"
     ]
    }
   ],
   "source": [
    "def find_missing_num(ar):\n",
    "    exp_sum = sum(range(1, 101))\n",
    "    actual_sum = sum(ar)\n",
    "    missing_num = exp_sum - actual_sum\n",
    "    return missing_num\n",
    "ar = [1, 2, 3, 4, 5, 6, 7, 8, 10, 11, 12, 13, 14, 15, 16, 17, 18, 19, 20, 21, 22, 23, 24, 25, 26, 27, 28, 29, 30,       31, 32, 33, 34, 35, 36, 37, 38, 39, 40, 41, 42, 43, 44, 45, 46, 47, 48, 49, 50, 51, 52, 53, 54, 55, 56, 57, 58,       59, 60, 61, 62, 63, 64, 65, 66, 67, 68, 69, 70, 71, 72, 73, 74, 75, 76, 77, 78, 79, 80, 81, 82, 83, 84, 85, 86,       87, 88, 89, 90, 91, 92, 93, 94, 95, 96, 97, 98, 99, 100]\n",
    "missing_num = find_missing_num(ar)\n",
    "print(\"Missing number is:\", missing_num)\n"
   ]
  },
  {
   "cell_type": "code",
   "execution_count": 6,
   "id": "c37c3e7f",
   "metadata": {},
   "outputs": [
    {
     "name": "stdout",
     "output_type": "stream",
     "text": [
      "Duplicate number is: 15\n"
     ]
    }
   ],
   "source": [
    "def find_duplicate_number(d):\n",
    "    visited_numbers = set()\n",
    "    for num in d:\n",
    "        if num in visited_numbers:\n",
    "            return num\n",
    "        else:\n",
    "            visited_numbers.add(num)\n",
    "    return None\n",
    "d = [10, 11, 12, 13, 14, 15, 15, 16, 17, 18, 19, 20, 21, 22, 23]\n",
    "duplicate_num = find_duplicate_number(d)\n",
    "if duplicate_num:\n",
    "    print(\"Duplicate number is:\", duplicate_num)\n",
    "else:\n",
    "    print(\"No duplicate number found in the array.\")\n"
   ]
  },
  {
   "cell_type": "code",
   "execution_count": 12,
   "id": "e269257c",
   "metadata": {},
   "outputs": [
    {
     "name": "stdout",
     "output_type": "stream",
     "text": [
      "Pairs with sum 10 are:\n",
      "(5, 5)\n",
      "(6, 4)\n",
      "(1, 9)\n",
      "(7, 3)\n",
      "(10, 0)\n"
     ]
    }
   ],
   "source": [
    "def find_pairs_with_given_sum(b, given_sum):\n",
    "    visited_num = set()\n",
    "    p = []\n",
    "    for num in b:\n",
    "        complement = given_sum - num\n",
    "        if complement in visited_num:\n",
    "            p.append((complement, num))\n",
    "        else:\n",
    "            visited_num.add(num)\n",
    "    return p\n",
    "b = [1, 5, 5, 6, 4, 6, 7, 8, 9, 10, 3, 0]\n",
    "given_sum = 10\n",
    "p = find_pairs_with_given_sum(b, given_sum)\n",
    "if p:\n",
    "    print(\"Pairs with sum\", given_sum, \"are:\")\n",
    "    for pair in p:\n",
    "        print(pair)\n",
    "else:\n",
    "    print(\"No pairs found with sum\", given_sum, \"in the array.\")"
   ]
  },
  {
   "cell_type": "code",
   "execution_count": null,
   "id": "cafe3a13",
   "metadata": {},
   "outputs": [],
   "source": []
  }
 ],
 "metadata": {
  "kernelspec": {
   "display_name": "Python 3 (ipykernel)",
   "language": "python",
   "name": "python3"
  },
  "language_info": {
   "codemirror_mode": {
    "name": "ipython",
    "version": 3
   },
   "file_extension": ".py",
   "mimetype": "text/x-python",
   "name": "python",
   "nbconvert_exporter": "python",
   "pygments_lexer": "ipython3",
   "version": "3.9.13"
  }
 },
 "nbformat": 4,
 "nbformat_minor": 5
}
